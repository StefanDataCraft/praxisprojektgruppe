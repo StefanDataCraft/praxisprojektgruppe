{
 "cells": [
  {
   "cell_type": "markdown",
   "source": [
    "# Praxisprojekt Aufgabe 6\n",
    "## Objektorientierte Programmierung neu orientiert"
   ],
   "metadata": {
    "collapsed": false
   }
  },
  {
   "cell_type": "markdown",
   "source": [
    "### Klasse Person:"
   ],
   "metadata": {
    "collapsed": false
   }
  },
  {
   "cell_type": "code",
   "execution_count": 1,
   "metadata": {
    "collapsed": true
   },
   "outputs": [
    {
     "name": "stdout",
     "output_type": "stream",
     "text": [
      "Hallo, mein Name ist Karl Heinz, ich bin 55 Jahre alt und bin achtsam, agil, analytisch.\n"
     ]
    }
   ],
   "source": [
    "import pandas as pd\n",
    "import pywizards as pyw\n",
    "import matplotlib\n",
    "import pandas as pd\n",
    "import seaborn as sns\n",
    "person = pyw.Person(\"Karl Heinz\", 55)\n",
    "person.add_personality_characteristic(\"achtsam\")\n",
    "person.add_personality_characteristic(\"agil\")\n",
    "person.add_personality_characteristic(\"analytisch\")\n",
    "person.introduce()"
   ]
  },
  {
   "cell_type": "markdown",
   "source": [
    "### Klasse Student:"
   ],
   "metadata": {
    "collapsed": false
   }
  },
  {
   "cell_type": "code",
   "execution_count": 2,
   "outputs": [],
   "source": [
    "student1 = pyw.Student(\"Ralf\", 35, \"Erweiterung der Fähigkeiten\")\n",
    "student1.add_personality_characteristic(\"angenehm\")\n",
    "student1.add_personality_characteristic(\"anpassungsfähig\")\n",
    "student1.add_soft_skill(\"Kommunikationsfähigkeit\")\n",
    "student1.add_soft_skill(\"Teamfähigkeit\")\n",
    "student1.add_hard_skill(\"handwerkliche Fähigkeiten\")\n",
    "student1.add_hard_skill(\"Sprachkenntnisse\")\n",
    "\n",
    "student2 = pyw.Student(\"Tomas\", 55, \"Für Erfahrung\")\n",
    "student2.add_personality_characteristic(\"ausdauernd\")\n",
    "student2.add_personality_characteristic(\"begeisterungsfähig\")\n",
    "student2.add_soft_skill(\"Empathie\")\n",
    "student2.add_soft_skill(\"Stressresistenz\")\n",
    "student2.add_hard_skill(\"Software- und Programmierkenntnisse\")\n",
    "student2.add_hard_skill(\"Belegbare Qualifikationen\")\n",
    "\n",
    "# Bei Presentation eingeben\n",
    "student3 = pyw.Student(\"Tomas\", 35, \"Für Beruf\")\n",
    "student3.add_personality_characteristic(\"ausdauernd\")\n",
    "student3.add_personality_characteristic(\"begeisterungsfähig\")\n",
    "student3.add_soft_skill(\"Empathie\")\n",
    "student3.add_soft_skill(\"Stressresistenz\")\n",
    "student3.add_hard_skill(\"Software- und Programmierkenntnisse\")\n",
    "student3.add_hard_skill(\"Belegbare Qualifikationen\")\n",
    "\n",
    "student4 = pyw.Student(\"Martin\", 56, \"Zeitvertreib\")\n",
    "student4.add_personality_characteristic(\"empathisch\")\n",
    "student4.add_personality_characteristic(\"kompetent\")\n",
    "student4.add_soft_skill(\"Gute Einstellung\")\n",
    "student4.add_soft_skill(\"Einfühlungsvermögen\")\n",
    "student4.add_hard_skill(\"Full Stack\")\n",
    "student4.add_hard_skill(\"Java\")\n",
    "\n",
    "student5 = pyw.Student(\"Ingo\", 55, \"Wissensvermehrung\")\n",
    "student5.add_personality_characteristic(\"chaotisch\")\n",
    "student5.add_personality_characteristic(\"intelligent\")\n",
    "student5.add_soft_skill(\"Kommunikativ\")\n",
    "student5.add_soft_skill(\"Hilfsbereit\")\n",
    "student5.add_hard_skill(\"Python\")\n",
    "student5.add_hard_skill(\"Javascript\")"
   ],
   "metadata": {
    "collapsed": false
   }
  },
  {
   "cell_type": "markdown",
   "source": [
    "### Klasse Professor"
   ],
   "metadata": {
    "collapsed": false
   }
  },
  {
   "cell_type": "code",
   "execution_count": 3,
   "outputs": [],
   "source": [
    "professor1 = pyw.Professor(\"Uwe\", 45, \"Vorbereitung und Präsentation von Seminaren\")\n",
    "professor1.add_personality_characteristic(\"angenehm\")\n",
    "professor1.add_personality_characteristic(\"analytisch\")\n",
    "professor1.add_skill(\"pädagogische und didaktische Fähigkeiten\")\n",
    "professor1.add_skill(\"fachspezifisches und methodisches Wissen\")\n",
    "\n",
    "professor2 = pyw.Professor(\"Andreas\", 65, \"Wissenschaftliche Forschungen\")\n",
    "professor2.add_personality_characteristic(\"sympathisch\")\n",
    "professor2.add_personality_characteristic(\"angenehm\")\n",
    "professor2.add_skill(\"Führungskompetenz\")\n",
    "professor2.add_skill(\"Fachspezifisches und methodisches Wissen\")\n",
    "\n",
    "professor3 = pyw.Professor(\"Andreas\", 65, \"Verfassen von Publikationen\")\n",
    "professor3.add_personality_characteristic(\"sympathisch\")\n",
    "professor3.add_personality_characteristic(\"angenehm\")\n",
    "professor3.add_skill(\"Führungskompetenz\")\n",
    "professor3.add_skill(\"Fachspezifisches und methodisches Wissen\")\n",
    "\n",
    "professor4 = pyw.Professor(\"Tobias\", 65, \"Evaluation der Vorträge\")\n",
    "professor4.add_personality_characteristic(\"empathisch\")\n",
    "professor4.add_personality_characteristic(\"angenehm\")\n",
    "professor4.add_skill(\"Persönliche Stärke\")\n",
    "professor4.add_skill(\"Kompetenz\")\n",
    "\n",
    "professor5 = pyw.Professor(\"Ralf\", 36, \"Beachvolleyballer\")\n",
    "professor5.add_personality_characteristic(\"sympathisch\")\n",
    "professor5.add_personality_characteristic(\"fair\")\n",
    "professor5.add_skill(\"Datascience\")\n",
    "professor5.add_skill(\"Sport\")"
   ],
   "metadata": {
    "collapsed": false
   }
  },
  {
   "cell_type": "markdown",
   "source": [
    "### Klasse Workshop:"
   ],
   "metadata": {
    "collapsed": false
   }
  },
  {
   "cell_type": "code",
   "execution_count": 4,
   "outputs": [],
   "source": [
    "workshop1 = pyw.Workshop(\"20.04.2023\",\"20.04.2024\",\"Datenanalyse\")\n",
    "workshop1.add_participants(professor1)\n",
    "workshop1.add_participants(professor2)\n",
    "workshop1.add_participants(professor3)\n",
    "workshop1.add_participants(professor5)\n",
    "workshop1.add_participants(student1)\n",
    "workshop1.add_participants(student2)\n",
    "workshop1.add_participants(student3)\n",
    "\n",
    "workshop2 = pyw.Workshop(\"20.06.2023\",\"20.06.2024\",\"Full Stack\")\n",
    "workshop2.add_participants(professor4)\n",
    "workshop2.add_participants(professor3)\n",
    "workshop2.add_participants(student4)\n",
    "workshop2.add_participants(student2)\n",
    "workshop2.add_participants(student1)\n",
    "workshop2.add_participants(student5)"
   ],
   "metadata": {
    "collapsed": false
   }
  },
  {
   "cell_type": "markdown",
   "source": [
    "### Printfunktionen:"
   ],
   "metadata": {
    "collapsed": false
   }
  },
  {
   "cell_type": "code",
   "execution_count": 5,
   "outputs": [
    {
     "name": "stdout",
     "output_type": "stream",
     "text": [
      "Studenten:\n",
      "----------------------------\n",
      "Name: Ralf\n",
      "Alter: 35\n",
      "Persönlichkeitsmerkmale:\n",
      "angenehm\n",
      "anpassungsfähig\n",
      "Soft skills:\n",
      "Kommunikationsfähigkeit\n",
      "Teamfähigkeit\n",
      "Hard skills:\n",
      "handwerkliche Fähigkeiten\n",
      "Sprachkenntnisse\n",
      "----------------------------\n",
      "Name: Tomas\n",
      "Alter: 55\n",
      "Persönlichkeitsmerkmale:\n",
      "ausdauernd\n",
      "begeisterungsfähig\n",
      "Soft skills:\n",
      "Empathie\n",
      "Stressresistenz\n",
      "Hard skills:\n",
      "Software- und Programmierkenntnisse\n",
      "Belegbare Qualifikationen\n",
      "----------------------------\n",
      "Name: Tomas\n",
      "Alter: 35\n",
      "Persönlichkeitsmerkmale:\n",
      "ausdauernd\n",
      "begeisterungsfähig\n",
      "Soft skills:\n",
      "Empathie\n",
      "Stressresistenz\n",
      "Hard skills:\n",
      "Software- und Programmierkenntnisse\n",
      "Belegbare Qualifikationen\n",
      "----------------------------\n",
      "+++++++++++++++++++++++++++++++++\n",
      "Dozenten: \n",
      "Name: Uwe\n",
      "Alter: 45\n",
      "Persönlichkeitsmerkmale:\n",
      "angenehm\n",
      "analytisch\n",
      "Skills:\n",
      "pädagogische und didaktische Fähigkeiten\n",
      "fachspezifisches und methodisches Wissen\n",
      "----------------------------\n",
      "Name: Andreas\n",
      "Alter: 65\n",
      "Persönlichkeitsmerkmale:\n",
      "sympathisch\n",
      "angenehm\n",
      "Skills:\n",
      "Führungskompetenz\n",
      "Fachspezifisches und methodisches Wissen\n",
      "----------------------------\n",
      "Name: Andreas\n",
      "Alter: 65\n",
      "Persönlichkeitsmerkmale:\n",
      "sympathisch\n",
      "angenehm\n",
      "Skills:\n",
      "Führungskompetenz\n",
      "Fachspezifisches und methodisches Wissen\n",
      "----------------------------\n",
      "Name: Ralf\n",
      "Alter: 36\n",
      "Persönlichkeitsmerkmale:\n",
      "sympathisch\n",
      "fair\n",
      "Skills:\n",
      "Datascience\n",
      "Sport\n",
      "----------------------------\n",
      "*************************\n"
     ]
    }
   ],
   "source": [
    "workshop1.print_members()"
   ],
   "metadata": {
    "collapsed": false
   }
  },
  {
   "cell_type": "code",
   "execution_count": 6,
   "outputs": [
    {
     "name": "stdout",
     "output_type": "stream",
     "text": [
      "Von: 20.04.2023 bis 20.04.2024\n",
      "Thema: Datenanalyse\n"
     ]
    }
   ],
   "source": [
    "workshop1.print_workshop()"
   ],
   "metadata": {
    "collapsed": false
   }
  },
  {
   "cell_type": "code",
   "execution_count": 7,
   "outputs": [
    {
     "name": "stdout",
     "output_type": "stream",
     "text": [
      "Von: 20.04.2023 bis 20.04.2024\n",
      "Thema: Datenanalyse\n",
      "****************************************************\n",
      "Studenten:\n",
      "----------------------------\n",
      "Name: Ralf\n",
      "Alter: 35\n",
      "Persönlichkeitsmerkmale:\n",
      "angenehm\n",
      "anpassungsfähig\n",
      "Soft skills:\n",
      "Kommunikationsfähigkeit\n",
      "Teamfähigkeit\n",
      "Hard skills:\n",
      "handwerkliche Fähigkeiten\n",
      "Sprachkenntnisse\n",
      "----------------------------\n",
      "Name: Tomas\n",
      "Alter: 55\n",
      "Persönlichkeitsmerkmale:\n",
      "ausdauernd\n",
      "begeisterungsfähig\n",
      "Soft skills:\n",
      "Empathie\n",
      "Stressresistenz\n",
      "Hard skills:\n",
      "Software- und Programmierkenntnisse\n",
      "Belegbare Qualifikationen\n",
      "----------------------------\n",
      "Name: Tomas\n",
      "Alter: 35\n",
      "Persönlichkeitsmerkmale:\n",
      "ausdauernd\n",
      "begeisterungsfähig\n",
      "Soft skills:\n",
      "Empathie\n",
      "Stressresistenz\n",
      "Hard skills:\n",
      "Software- und Programmierkenntnisse\n",
      "Belegbare Qualifikationen\n",
      "----------------------------\n",
      "+++++++++++++++++++++++++++++++++\n",
      "Dozenten: \n",
      "Name: Uwe\n",
      "Alter: 45\n",
      "Persönlichkeitsmerkmale:\n",
      "angenehm\n",
      "analytisch\n",
      "Skills:\n",
      "pädagogische und didaktische Fähigkeiten\n",
      "fachspezifisches und methodisches Wissen\n",
      "----------------------------\n",
      "Name: Andreas\n",
      "Alter: 65\n",
      "Persönlichkeitsmerkmale:\n",
      "sympathisch\n",
      "angenehm\n",
      "Skills:\n",
      "Führungskompetenz\n",
      "Fachspezifisches und methodisches Wissen\n",
      "----------------------------\n",
      "Name: Andreas\n",
      "Alter: 65\n",
      "Persönlichkeitsmerkmale:\n",
      "sympathisch\n",
      "angenehm\n",
      "Skills:\n",
      "Führungskompetenz\n",
      "Fachspezifisches und methodisches Wissen\n",
      "----------------------------\n",
      "Name: Ralf\n",
      "Alter: 36\n",
      "Persönlichkeitsmerkmale:\n",
      "sympathisch\n",
      "fair\n",
      "Skills:\n",
      "Datascience\n",
      "Sport\n",
      "----------------------------\n",
      "*************************\n"
     ]
    }
   ],
   "source": [
    "workshop1.print_details()"
   ],
   "metadata": {
    "collapsed": false
   }
  },
  {
   "cell_type": "markdown",
   "source": [
    "### Plots"
   ],
   "metadata": {
    "collapsed": false
   }
  },
  {
   "cell_type": "code",
   "execution_count": 8,
   "outputs": [],
   "source": [
    "workshop_array = [workshop1,workshop2]\n",
    "student_qty = []\n",
    "professor_qty = []\n",
    "for workshop in workshop_array:\n",
    "    student_qty.append(len(workshop.students))\n",
    "    professor_qty.append(len(workshop.professors))\n",
    "student_qty_df = pd.DataFrame(student_qty)\n",
    "professor_qty_df = pd.DataFrame(professor_qty)"
   ],
   "metadata": {
    "collapsed": false
   }
  },
  {
   "cell_type": "code",
   "execution_count": 9,
   "outputs": [
    {
     "data": {
      "text/plain": "<Axes: title={'center': 'Anzahl Studenten in Workshop'}, xlabel='Workshop', ylabel='Anzahl'>"
     },
     "execution_count": 9,
     "metadata": {},
     "output_type": "execute_result"
    },
    {
     "data": {
      "text/plain": "<Figure size 640x480 with 1 Axes>",
      "image/png": "[encoded data removed]"
     },
     "metadata": {},
     "output_type": "display_data"
    }
   ],
   "source": [
    "student_qty_df.plot.bar(title=\"Anzahl Studenten in Workshop\", xlabel =\"Workshop\",ylabel =\"Anzahl\", legend=False)"
   ],
   "metadata": {
    "collapsed": false
   }
  },
  {
   "cell_type": "code",
   "execution_count": 10,
   "outputs": [
    {
     "data": {
      "text/plain": "<Axes: title={'center': 'Anzahl Dozenten in Workshop'}, xlabel='Workshop', ylabel='Anzahl'>"
     },
     "execution_count": 10,
     "metadata": {},
     "output_type": "execute_result"
    },
    {
     "data": {
      "text/plain": "<Figure size 640x480 with 1 Axes>",
      "image/png": "[encoded data removed]"
     },
     "metadata": {},
     "output_type": "display_data"
    }
   ],
   "source": [
    "professor_qty_df.plot.bar(title=\"Anzahl Dozenten in Workshop\", xlabel =\"Workshop\",ylabel =\"Anzahl\", legend=False)"
   ],
   "metadata": {
    "collapsed": false
   }
  },
  {
   "cell_type": "code",
   "execution_count": 10,
   "outputs": [],
   "source": [],
   "metadata": {
    "collapsed": false
   }
  }
 ],
 "metadata": {
  "kernelspec": {
   "display_name": "Python 3",
   "language": "python",
   "name": "python3"
  },
  "language_info": {
   "codemirror_mode": {
    "name": "ipython",
    "version": 2
   },
   "file_extension": ".py",
   "mimetype": "text/x-python",
   "name": "python",
   "nbconvert_exporter": "python",
   "pygments_lexer": "ipython2",
   "version": "2.7.6"
  }
 },
 "nbformat": 4,
 "nbformat_minor": 0
}
