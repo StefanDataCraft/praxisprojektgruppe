{
 "cells": [
  {
   "cell_type": "markdown",
   "source": [
    "# Praxisprojekt Aufgabe 6\n",
    "## Objektorientierte Programmierung neu orientiert"
   ],
   "metadata": {
    "collapsed": false
   }
  },
  {
   "cell_type": "markdown",
   "source": [
    "Klasse Person:"
   ],
   "metadata": {
    "collapsed": false
   }
  },
  {
   "cell_type": "code",
   "execution_count": 1,
   "metadata": {
    "collapsed": true
   },
   "outputs": [
    {
     "name": "stdout",
     "output_type": "stream",
     "text": [
      "Hallo, mein Name ist Karl Heinz, ich bin 55 Jahre alt und bin achtsam, agil, analytisch.\n"
     ]
    }
   ],
   "source": [
    "import pandas as pd\n",
    "import pywizards as pyw\n",
    "import matplotlib as plt\n",
    "import pandas as pd\n",
    "person = pyw.Person(\"Karl Heinz\", 55)\n",
    "person.add_personality_characteristic(\"achtsam\")\n",
    "person.add_personality_characteristic(\"agil\")\n",
    "person.add_personality_characteristic(\"analytisch\")\n",
    "person.introduce()"
   ]
  },
  {
   "cell_type": "markdown",
   "source": [
    "Klasse Student:"
   ],
   "metadata": {
    "collapsed": false
   }
  },
  {
   "cell_type": "code",
   "execution_count": 2,
   "outputs": [],
   "source": [
    "student1 = pyw.Student(\"Ralf\", 35, \"Erweiterung der Fähigkeiten\")\n",
    "student1.add_personality_characteristic(\"angenehm\")\n",
    "student1.add_personality_characteristic(\"anpassungsfähig\")\n",
    "student1.add_soft_skill(\"Kommunikationsfähigkeit\")\n",
    "student1.add_soft_skill(\"Teamfähigkeit\")\n",
    "student1.add_hard_skill(\"handwerkliche Fähigkeiten\")\n",
    "student1.add_hard_skill(\"Sprachkenntnisse\")\n",
    "\n",
    "student2 = pyw.Student(\"Tomas\", 55, \"Für Beruf\")\n",
    "student2.add_personality_characteristic(\"ausdauernd\")\n",
    "student2.add_personality_characteristic(\"begeisterungsfähig\")\n",
    "student2.add_soft_skill(\"Empathie\")\n",
    "student2.add_soft_skill(\"Stressresistenz\")\n",
    "student2.add_hard_skill(\"Software- und Programmierkenntnisse\")\n",
    "student2.add_hard_skill(\"Belegbare Qualifikationen\")\n",
    "\n",
    "# Bei Presentation eingeben\n",
    "student3 = pyw.Student(\"Tomas\", 35, \"Für Beruf\")\n",
    "student3.add_personality_characteristic(\"ausdauernd\")\n",
    "student3.add_personality_characteristic(\"begeisterungsfähig\")\n",
    "student3.add_soft_skill(\"Empathie\")\n",
    "student3.add_soft_skill(\"Stressresistenz\")\n",
    "student3.add_hard_skill(\"Software- und Programmierkenntnisse\")\n",
    "student3.add_hard_skill(\"Belegbare Qualifikationen\")\n",
    "\n",
    "student4 = pyw.Student(\"Martin\", 56, \"Zeitvertreib\")\n",
    "student4.add_personality_characteristic(\"empathisch\")\n",
    "student4.add_personality_characteristic(\"kompetent\")\n",
    "student4.add_soft_skill(\"Gute Einstellung\")\n",
    "student4.add_soft_skill(\"Einfühlungsvermögen\")\n",
    "student4.add_hard_skill(\"Full Stack\")\n",
    "student4.add_hard_skill(\"Java\")"
   ],
   "metadata": {
    "collapsed": false
   }
  },
  {
   "cell_type": "markdown",
   "source": [
    "Klasse Professor"
   ],
   "metadata": {
    "collapsed": false
   }
  },
  {
   "cell_type": "code",
   "execution_count": 3,
   "outputs": [],
   "source": [
    "professor1 = pyw.Professor(\"Uwe\", 45, \"Viel Erfahrung in PHP\")\n",
    "professor1.add_personality_characteristic(\"angenehm\")\n",
    "professor1.add_personality_characteristic(\"analytisch\")\n",
    "professor1.add_skill(\"pädagogische und didaktische Fähigkeiten\")\n",
    "professor1.add_skill(\"fachspezifisches und methodisches Wissen\")\n",
    "\n",
    "professor2 = pyw.Professor(\"Andreas\", 65, \"Full Stack Entwickler\")\n",
    "professor2.add_personality_characteristic(\"sympathisch\")\n",
    "professor2.add_personality_characteristic(\"angenehm\")\n",
    "professor2.add_skill(\"Führungskompetenz\")\n",
    "professor2.add_skill(\"Fachspezifisches und methodisches Wissen\")\n",
    "\n",
    "# Bei Presentation eingeben\n",
    "professor3 = pyw.Professor(\"Andreas\", 65, \"Full Stack Entwickler\")\n",
    "professor3.add_personality_characteristic(\"sympathisch\")\n",
    "professor3.add_personality_characteristic(\"angenehm\")\n",
    "professor3.add_skill(\"Führungskompetenz\")\n",
    "professor3.add_skill(\"Fachspezifisches und methodisches Wissen\")\n",
    "\n",
    "professor4 = pyw.Professor(\"Tobias\", 65, \"Javascript Expert\")\n",
    "professor4.add_personality_characteristic(\"empathisch\")\n",
    "professor4.add_personality_characteristic(\"angenehm\")\n",
    "professor4.add_skill(\"Persönliche Stärke\")\n",
    "professor4.add_skill(\"Kompetenz\")"
   ],
   "metadata": {
    "collapsed": false
   }
  },
  {
   "cell_type": "markdown",
   "source": [
    "Klasse Workshop:"
   ],
   "metadata": {
    "collapsed": false
   }
  },
  {
   "cell_type": "code",
   "execution_count": 4,
   "outputs": [],
   "source": [
    "workshop1 = pyw.Workshop(\"20.04.2023\",\"20.04.2024\",\"Datenanalyse\")\n",
    "workshop1.add_participants(professor1)\n",
    "workshop1.add_participants(professor2)\n",
    "workshop1.add_participants(professor3)\n",
    "workshop1.add_participants(student1)\n",
    "workshop1.add_participants(student2)\n",
    "workshop1.add_participants(student3)\n",
    "\n",
    "workshop2 = pyw.Workshop(\"20.06.2023\",\"20.06.2024\",\"Full Stack\")\n",
    "workshop2.add_participants(professor4)\n",
    "workshop2.add_participants(student4)"
   ],
   "metadata": {
    "collapsed": false
   }
  },
  {
   "cell_type": "markdown",
   "source": [
    "Printfunktionen:"
   ],
   "metadata": {
    "collapsed": false
   }
  },
  {
   "cell_type": "code",
   "execution_count": 5,
   "outputs": [
    {
     "name": "stdout",
     "output_type": "stream",
     "text": [
      "Studenten: \n",
      "----------------------------\n",
      "Name: Ralf\n",
      "Alter: 35\n",
      "Persönlichkeitsmerkmale:\n",
      "angenehm\n",
      "anpassungsfähig\n",
      "Soft skills:\n",
      "Kommunikationsfähigkeit\n",
      "Teamfähigkeit\n",
      "Hard skills:\n",
      "handwerkliche Fähigkeiten\n",
      "Sprachkenntnisse\n",
      "----------------------------\n",
      "Name: Tomas\n",
      "Alter: 55\n",
      "Persönlichkeitsmerkmale:\n",
      "ausdauernd\n",
      "begeisterungsfähig\n",
      "Soft skills:\n",
      "Empathie\n",
      "Stressresistenz\n",
      "Hard skills:\n",
      "Software- und Programmierkenntnisse\n",
      "Belegbare Qualifikationen\n",
      "----------------------------\n",
      "Name: Tomas\n",
      "Alter: 35\n",
      "Persönlichkeitsmerkmale:\n",
      "ausdauernd\n",
      "begeisterungsfähig\n",
      "Soft skills:\n",
      "Empathie\n",
      "Stressresistenz\n",
      "Hard skills:\n",
      "Software- und Programmierkenntnisse\n",
      "Belegbare Qualifikationen\n",
      "----------------------------\n",
      "+++++++++++++++++++++++++++++++++\n",
      "Dozenten: \n",
      "Name: Uwe\n",
      "Alter: 45\n",
      "Persönlichkeitsmerkmale:\n",
      "angenehm\n",
      "analytisch\n",
      "Skills:\n",
      "pädagogische und didaktische Fähigkeiten\n",
      "fachspezifisches und methodisches Wissen\n",
      "----------------------------\n",
      "Name: Andreas\n",
      "Alter: 65\n",
      "Persönlichkeitsmerkmale:\n",
      "sympathisch\n",
      "angenehm\n",
      "Skills:\n",
      "Führungskompetenz\n",
      "Fachspezifisches und methodisches Wissen\n",
      "----------------------------\n",
      "Name: Andreas\n",
      "Alter: 65\n",
      "Persönlichkeitsmerkmale:\n",
      "sympathisch\n",
      "angenehm\n",
      "Skills:\n",
      "Führungskompetenz\n",
      "Fachspezifisches und methodisches Wissen\n",
      "----------------------------\n",
      "*************************\n"
     ]
    }
   ],
   "source": [
    "workshop1.print_members()"
   ],
   "metadata": {
    "collapsed": false
   }
  },
  {
   "cell_type": "code",
   "execution_count": 6,
   "outputs": [
    {
     "name": "stdout",
     "output_type": "stream",
     "text": [
      "Von: 20.04.2023 bis 20.04.2024\n",
      "Thema: Datenanalyse\n"
     ]
    }
   ],
   "source": [
    "workshop1.print_workshop()"
   ],
   "metadata": {
    "collapsed": false
   }
  },
  {
   "cell_type": "code",
   "execution_count": 7,
   "outputs": [
    {
     "name": "stdout",
     "output_type": "stream",
     "text": [
      "Von: 20.04.2023 bis 20.04.2024\n",
      "Thema: Datenanalyse\n",
      "****************************************************\n",
      "Studenten: \n",
      "----------------------------\n",
      "Name: Ralf\n",
      "Alter: 35\n",
      "Persönlichkeitsmerkmale:\n",
      "angenehm\n",
      "anpassungsfähig\n",
      "Soft skills:\n",
      "Kommunikationsfähigkeit\n",
      "Teamfähigkeit\n",
      "Hard skills:\n",
      "handwerkliche Fähigkeiten\n",
      "Sprachkenntnisse\n",
      "----------------------------\n",
      "Name: Tomas\n",
      "Alter: 55\n",
      "Persönlichkeitsmerkmale:\n",
      "ausdauernd\n",
      "begeisterungsfähig\n",
      "Soft skills:\n",
      "Empathie\n",
      "Stressresistenz\n",
      "Hard skills:\n",
      "Software- und Programmierkenntnisse\n",
      "Belegbare Qualifikationen\n",
      "----------------------------\n",
      "Name: Tomas\n",
      "Alter: 35\n",
      "Persönlichkeitsmerkmale:\n",
      "ausdauernd\n",
      "begeisterungsfähig\n",
      "Soft skills:\n",
      "Empathie\n",
      "Stressresistenz\n",
      "Hard skills:\n",
      "Software- und Programmierkenntnisse\n",
      "Belegbare Qualifikationen\n",
      "----------------------------\n",
      "+++++++++++++++++++++++++++++++++\n",
      "Dozenten: \n",
      "Name: Uwe\n",
      "Alter: 45\n",
      "Persönlichkeitsmerkmale:\n",
      "angenehm\n",
      "analytisch\n",
      "Skills:\n",
      "pädagogische und didaktische Fähigkeiten\n",
      "fachspezifisches und methodisches Wissen\n",
      "----------------------------\n",
      "Name: Andreas\n",
      "Alter: 65\n",
      "Persönlichkeitsmerkmale:\n",
      "sympathisch\n",
      "angenehm\n",
      "Skills:\n",
      "Führungskompetenz\n",
      "Fachspezifisches und methodisches Wissen\n",
      "----------------------------\n",
      "Name: Andreas\n",
      "Alter: 65\n",
      "Persönlichkeitsmerkmale:\n",
      "sympathisch\n",
      "angenehm\n",
      "Skills:\n",
      "Führungskompetenz\n",
      "Fachspezifisches und methodisches Wissen\n",
      "----------------------------\n",
      "*************************\n"
     ]
    }
   ],
   "source": [
    "workshop1.print_details()"
   ],
   "metadata": {
    "collapsed": false
   }
  },
  {
   "cell_type": "code",
   "execution_count": 15,
   "outputs": [
    {
     "name": "stdout",
     "output_type": "stream",
     "text": [
      "0    3\n",
      "1    1\n",
      "dtype: int64\n",
      "0    3\n",
      "1    1\n",
      "dtype: int64\n"
     ]
    },
    {
     "ename": "AttributeError",
     "evalue": "'function' object has no attribute 'show'",
     "output_type": "error",
     "traceback": [
      "\u001B[1;31m---------------------------------------------------------------------------\u001B[0m",
      "\u001B[1;31mAttributeError\u001B[0m                            Traceback (most recent call last)",
      "Cell \u001B[1;32mIn[15], line 10\u001B[0m\n\u001B[0;32m      8\u001B[0m \u001B[38;5;28mprint\u001B[39m(student_qty)\n\u001B[0;32m      9\u001B[0m \u001B[38;5;28mprint\u001B[39m(professor_qty)\n\u001B[1;32m---> 10\u001B[0m \u001B[43mstudent_qty\u001B[49m\u001B[38;5;241;43m.\u001B[39;49m\u001B[43mplot\u001B[49m\u001B[38;5;241;43m.\u001B[39;49m\u001B[43mbar\u001B[49m\u001B[38;5;241;43m.\u001B[39;49m\u001B[43mshow\u001B[49m()\n\u001B[0;32m     11\u001B[0m professor_qty\u001B[38;5;241m.\u001B[39mplot\u001B[38;5;241m.\u001B[39mbar\u001B[38;5;241m.\u001B[39mshow()\n",
      "\u001B[1;31mAttributeError\u001B[0m: 'function' object has no attribute 'show'"
     ]
    }
   ],
   "source": [
    "workshop_array = [workshop1,workshop2]\n",
    "student_qty = pd.Series()\n",
    "professor_qty = pd.Series()\n",
    "for workshop in workshop_array:\n",
    "    student_qty.at[len(student_qty)] = len(workshop.students)\n",
    "    professor_qty.at[len(professor_qty)] = len(workshop.professors)\n",
    "    #professor_qty.append(len(workshop.professors))\n",
    "print(student_qty)\n",
    "print(professor_qty)\n",
    "plt()\n",
    "student_qty.plot.bar()\n",
    "professor_qty.plot.bar()"
   ],
   "metadata": {
    "collapsed": false
   }
  },
  {
   "cell_type": "code",
   "execution_count": null,
   "outputs": [],
   "source": [],
   "metadata": {
    "collapsed": false
   }
  }
 ],
 "metadata": {
  "kernelspec": {
   "display_name": "Python 3",
   "language": "python",
   "name": "python3"
  },
  "language_info": {
   "codemirror_mode": {
    "name": "ipython",
    "version": 2
   },
   "file_extension": ".py",
   "mimetype": "text/x-python",
   "name": "python",
   "nbconvert_exporter": "python",
   "pygments_lexer": "ipython2",
   "version": "2.7.6"
  }
 },
 "nbformat": 4,
 "nbformat_minor": 0
}
