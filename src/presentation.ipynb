{
 "cells": [
  {
   "cell_type": "markdown",
   "source": [
    "# Praxisprojekt Aufgabe 6\n",
    "## Objektorientierte Programmierung neu orientiert"
   ],
   "metadata": {
    "collapsed": false
   }
  },
  {
   "cell_type": "markdown",
   "source": [
    "Klasse Person:"
   ],
   "metadata": {
    "collapsed": false
   }
  },
  {
   "cell_type": "code",
   "execution_count": 1,
   "metadata": {
    "collapsed": true
   },
   "outputs": [
    {
     "name": "stdout",
     "output_type": "stream",
     "text": [
      "Hallo, mein Name ist Karl Heinz, ich bin 55 Jahre alt\n"
     ]
    },
    {
     "data": {
      "text/plain": "['achtsam', 'agil', 'analytisch']"
     },
     "metadata": {},
     "output_type": "display_data"
    }
   ],
   "source": [
    "import pywizards as pyw\n",
    "person = pyw.Person(\"Karl Heinz\", 55)\n",
    "person.add_personality_characteristic(\"achtsam\")\n",
    "person.add_personality_characteristic(\"agil\")\n",
    "person.add_personality_characteristic(\"analytisch\")\n",
    "person.introduce()\n",
    "display(person.get_personality_characteristics())"
   ]
  },
  {
   "cell_type": "markdown",
   "source": [
    "Klasse Student:"
   ],
   "metadata": {
    "collapsed": false
   }
  },
  {
   "cell_type": "code",
   "execution_count": 2,
   "outputs": [
    {
     "data": {
      "text/plain": "'student3 = pyw.Student(\"Tomas\", 35, \"Für Beruf\")\\nstudent3.add_personality_characteristic(\"ausdauernd\")\\nstudent3.add_personality_characteristic(\"begeisterungsfähig\")\\nstudent3.add_soft_skill(\"Empathie\")\\nstudent3.add_soft_skill(\"Stressresistenz\")\\nstudent3.add_hard_skill(\"Software- und Programmierkenntnisse\")\\nstudent3.add_hard_skill(\"Belegbare Qualifikationen\")'"
     },
     "execution_count": 2,
     "metadata": {},
     "output_type": "execute_result"
    }
   ],
   "source": [
    "student1 = pyw.Student(\"Ralf\", 35, \"Dazulernen\")\n",
    "student1.add_personality_characteristic(\"angenehm\")\n",
    "student1.add_personality_characteristic(\"anpassungsfähig\")\n",
    "student1.add_soft_skill(\"Kommunikationsfähigkeit\")\n",
    "student1.add_soft_skill(\"Teamfähigkeit\")\n",
    "student1.add_hard_skill(\"handwerkliche Fähigkeiten\")\n",
    "student1.add_hard_skill(\"Sprachkenntnisse\")\n",
    "\n",
    "student2 = pyw.Student(\"Tomas\", 55, \"Für Beruf\")\n",
    "student2.add_personality_characteristic(\"ausdauernd\")\n",
    "student2.add_personality_characteristic(\"begeisterungsfähig\")\n",
    "student2.add_soft_skill(\"Empathie\")\n",
    "student2.add_soft_skill(\"Stressresistenz\")\n",
    "student2.add_hard_skill(\"Software- und Programmierkenntnisse\")\n",
    "student2.add_hard_skill(\"Belegbare Qualifikationen\")\n",
    "\n",
    "# Bei Presentation eingeben\n",
    "\"\"\"student3 = pyw.Student(\"Tomas\", 35, \"Für Beruf\")\n",
    "student3.add_personality_characteristic(\"ausdauernd\")\n",
    "student3.add_personality_characteristic(\"begeisterungsfähig\")\n",
    "student3.add_soft_skill(\"Empathie\")\n",
    "student3.add_soft_skill(\"Stressresistenz\")\n",
    "student3.add_hard_skill(\"Software- und Programmierkenntnisse\")\n",
    "student3.add_hard_skill(\"Belegbare Qualifikationen\")\"\"\""
   ],
   "metadata": {
    "collapsed": false
   }
  },
  {
   "cell_type": "markdown",
   "source": [
    "Klasse Professor"
   ],
   "metadata": {
    "collapsed": false
   }
  },
  {
   "cell_type": "code",
   "execution_count": 3,
   "outputs": [
    {
     "data": {
      "text/plain": "'student3 = pyw.Student(\"Tomas\", 35, \"Für Beruf\")\\nstudent3.add_personality_characteristic(\"ausdauernd\")\\nstudent3.add_personality_characteristic(\"begeisterungsfähig\")\\nstudent3.add_soft_skill(\"Empathie\")\\nstudent3.add_soft_skill(\"Stressresistenz\")\\nstudent3.add_hard_skill(\"Software- und Programmierkenntnisse\")\\nstudent3.add_hard_skill(\"Belegbare Qualifikationen\")'"
     },
     "execution_count": 3,
     "metadata": {},
     "output_type": "execute_result"
    }
   ],
   "source": [
    "professor1 = pyw.Professor(\"Uwe\", 45, \"Viel Erfahrung in PHP\")\n",
    "professor1.add_personality_characteristic(\"angenehm\")\n",
    "professor1.add_personality_characteristic(\"analytisch\")\n",
    "professor1.add_skill(\"pädagogische und didaktische Fähigkeiten\")\n",
    "professor1.add_skill(\"fachspezifisches und methodisches Wissen\")\n",
    "\n",
    "professor2 = pyw.Professor(\"Andreas\", 65, \"Full Stack Entwickler\")\n",
    "professor2.add_personality_characteristic(\"sympathisch\")\n",
    "professor2.add_personality_characteristic(\"angenehm\")\n",
    "professor2.add_skill(\"Führungskompetenz\")\n",
    "professor2.add_skill(\"fachspezifisches und methodisches Wissen\")\n",
    "\n",
    "# Bei Presentation eingeben\n",
    "\"\"\"student3 = pyw.Student(\"Tomas\", 35, \"Für Beruf\")\n",
    "student3.add_personality_characteristic(\"ausdauernd\")\n",
    "student3.add_personality_characteristic(\"begeisterungsfähig\")\n",
    "student3.add_soft_skill(\"Empathie\")\n",
    "student3.add_soft_skill(\"Stressresistenz\")\n",
    "student3.add_hard_skill(\"Software- und Programmierkenntnisse\")\n",
    "student3.add_hard_skill(\"Belegbare Qualifikationen\")\"\"\""
   ],
   "metadata": {
    "collapsed": false
   }
  },
  {
   "cell_type": "markdown",
   "source": [
    "Klasse Workshop:"
   ],
   "metadata": {
    "collapsed": false
   }
  },
  {
   "cell_type": "code",
   "execution_count": 4,
   "outputs": [],
   "source": [
    "workshop = pyw.Workshop(\"20.04.2023\",\"20.04.2024\",\"Datenanalyse\")\n",
    "workshop.add_participants(professor1)\n",
    "workshop.add_participants(professor2)\n",
    "workshop.add_participants(student1)\n",
    "workshop.add_participants(student2)"
   ],
   "metadata": {
    "collapsed": false
   }
  },
  {
   "cell_type": "markdown",
   "source": [
    "Printfunktionen:"
   ],
   "metadata": {
    "collapsed": false
   }
  },
  {
   "cell_type": "code",
   "execution_count": 5,
   "outputs": [
    {
     "name": "stdout",
     "output_type": "stream",
     "text": [
      "*****************************************************************\n",
      "Teilnehmer: \n",
      "*************************\n",
      "Studenten: \n",
      "Name: Ralf\n",
      "Alter: 35\n",
      "Persönlichkeitsmerkmale:\n",
      "achtsam\n",
      "agil\n",
      "analytisch\n",
      "angenehm\n",
      "anpassungsfähig\n",
      "ausdauernd\n",
      "begeisterungsfähig\n",
      "angenehm\n",
      "analytisch\n",
      "sympathisch\n",
      "angenehm\n",
      "Soft skills:\n",
      "Kommunikationsfähigkeit\n",
      "Teamfähigkeit\n",
      "Empathie\n",
      "Stressresistenz\n",
      "Soft skills:\n",
      "handwerkliche Fähigkeiten\n",
      "Sprachkenntnisse\n",
      "Software- und Programmierkenntnisse\n",
      "Belegbare Qualifikationen\n",
      "Name: Tomas\n",
      "Alter: 55\n",
      "Persönlichkeitsmerkmale:\n",
      "achtsam\n",
      "agil\n",
      "analytisch\n",
      "angenehm\n",
      "anpassungsfähig\n",
      "ausdauernd\n",
      "begeisterungsfähig\n",
      "angenehm\n",
      "analytisch\n",
      "sympathisch\n",
      "angenehm\n",
      "Soft skills:\n",
      "Kommunikationsfähigkeit\n",
      "Teamfähigkeit\n",
      "Empathie\n",
      "Stressresistenz\n",
      "Soft skills:\n",
      "handwerkliche Fähigkeiten\n",
      "Sprachkenntnisse\n",
      "Software- und Programmierkenntnisse\n",
      "Belegbare Qualifikationen\n",
      "*************************\n",
      "Dozenten: \n",
      "Name: Uwe\n",
      "Alter: 45\n",
      "Persönlichkeitsmerkmale:\n",
      "achtsam\n",
      "agil\n",
      "analytisch\n",
      "angenehm\n",
      "anpassungsfähig\n",
      "ausdauernd\n",
      "begeisterungsfähig\n",
      "angenehm\n",
      "analytisch\n",
      "sympathisch\n",
      "angenehm\n",
      "Skills:\n",
      "pädagogische und didaktische Fähigkeiten\n",
      "fachspezifisches und methodisches Wissen\n",
      "Führungskompetenz\n",
      "fachspezifisches und methodisches Wissen\n",
      "Name: Andreas\n",
      "Alter: 65\n",
      "Persönlichkeitsmerkmale:\n",
      "achtsam\n",
      "agil\n",
      "analytisch\n",
      "angenehm\n",
      "anpassungsfähig\n",
      "ausdauernd\n",
      "begeisterungsfähig\n",
      "angenehm\n",
      "analytisch\n",
      "sympathisch\n",
      "angenehm\n",
      "Skills:\n",
      "pädagogische und didaktische Fähigkeiten\n",
      "fachspezifisches und methodisches Wissen\n",
      "Führungskompetenz\n",
      "fachspezifisches und methodisches Wissen\n",
      "*************************\n",
      "*****************************************************************\n",
      "Workshop: \n",
      "Von: 20.04.2023 bis 20.04.2024\n",
      "Thema: Datenanalyse\n",
      "*************************\n",
      "*****************************************************************\n",
      "Details: \n",
      "Von: 20.04.2023 bis 20.04.2024\n",
      "Thema: Datenanalyse\n",
      "*************************\n",
      "*************************\n",
      "Studenten: \n",
      "Name: Ralf\n",
      "Alter: 35\n",
      "Persönlichkeitsmerkmale:\n",
      "achtsam\n",
      "agil\n",
      "analytisch\n",
      "angenehm\n",
      "anpassungsfähig\n",
      "ausdauernd\n",
      "begeisterungsfähig\n",
      "angenehm\n",
      "analytisch\n",
      "sympathisch\n",
      "angenehm\n",
      "Soft skills:\n",
      "Kommunikationsfähigkeit\n",
      "Teamfähigkeit\n",
      "Empathie\n",
      "Stressresistenz\n",
      "Soft skills:\n",
      "handwerkliche Fähigkeiten\n",
      "Sprachkenntnisse\n",
      "Software- und Programmierkenntnisse\n",
      "Belegbare Qualifikationen\n",
      "Name: Tomas\n",
      "Alter: 55\n",
      "Persönlichkeitsmerkmale:\n",
      "achtsam\n",
      "agil\n",
      "analytisch\n",
      "angenehm\n",
      "anpassungsfähig\n",
      "ausdauernd\n",
      "begeisterungsfähig\n",
      "angenehm\n",
      "analytisch\n",
      "sympathisch\n",
      "angenehm\n",
      "Soft skills:\n",
      "Kommunikationsfähigkeit\n",
      "Teamfähigkeit\n",
      "Empathie\n",
      "Stressresistenz\n",
      "Soft skills:\n",
      "handwerkliche Fähigkeiten\n",
      "Sprachkenntnisse\n",
      "Software- und Programmierkenntnisse\n",
      "Belegbare Qualifikationen\n",
      "*************************\n",
      "Dozenten: \n",
      "Name: Uwe\n",
      "Alter: 45\n",
      "Persönlichkeitsmerkmale:\n",
      "achtsam\n",
      "agil\n",
      "analytisch\n",
      "angenehm\n",
      "anpassungsfähig\n",
      "ausdauernd\n",
      "begeisterungsfähig\n",
      "angenehm\n",
      "analytisch\n",
      "sympathisch\n",
      "angenehm\n",
      "Skills:\n",
      "pädagogische und didaktische Fähigkeiten\n",
      "fachspezifisches und methodisches Wissen\n",
      "Führungskompetenz\n",
      "fachspezifisches und methodisches Wissen\n",
      "Name: Andreas\n",
      "Alter: 65\n",
      "Persönlichkeitsmerkmale:\n",
      "achtsam\n",
      "agil\n",
      "analytisch\n",
      "angenehm\n",
      "anpassungsfähig\n",
      "ausdauernd\n",
      "begeisterungsfähig\n",
      "angenehm\n",
      "analytisch\n",
      "sympathisch\n",
      "angenehm\n",
      "Skills:\n",
      "pädagogische und didaktische Fähigkeiten\n",
      "fachspezifisches und methodisches Wissen\n",
      "Führungskompetenz\n",
      "fachspezifisches und methodisches Wissen\n",
      "*************************\n",
      "*****************************************************************\n"
     ]
    }
   ],
   "source": [
    "print(\"*****************************************************************\")\n",
    "print(\"Teilnehmer: \")\n",
    "workshop.print_members()\n",
    "print(\"*****************************************************************\")\n",
    "print(\"Workshop: \")\n",
    "workshop.print_workshop()\n",
    "print(\"*****************************************************************\")\n",
    "print(\"Details: \")\n",
    "workshop.print_details()\n",
    "print(\"*****************************************************************\")"
   ],
   "metadata": {
    "collapsed": false
   }
  },
  {
   "cell_type": "code",
   "execution_count": 5,
   "outputs": [],
   "source": [],
   "metadata": {
    "collapsed": false
   }
  }
 ],
 "metadata": {
  "kernelspec": {
   "display_name": "Python 3",
   "language": "python",
   "name": "python3"
  },
  "language_info": {
   "codemirror_mode": {
    "name": "ipython",
    "version": 2
   },
   "file_extension": ".py",
   "mimetype": "text/x-python",
   "name": "python",
   "nbconvert_exporter": "python",
   "pygments_lexer": "ipython2",
   "version": "2.7.6"
  }
 },
 "nbformat": 4,
 "nbformat_minor": 0
}
