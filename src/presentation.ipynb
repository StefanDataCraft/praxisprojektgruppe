{
 "cells": [
  {
   "cell_type": "markdown",
   "source": [
    "# Praxisprojekt Aufgabe 6\n",
    "## Objektorientierte Programmierung neu orientiert"
   ],
   "metadata": {
    "collapsed": false
   }
  },
  {
   "cell_type": "markdown",
   "source": [
    "Klasse Person:"
   ],
   "metadata": {
    "collapsed": false
   }
  },
  {
   "cell_type": "code",
   "execution_count": 1,
   "metadata": {
    "collapsed": true
   },
   "outputs": [
    {
     "name": "stdout",
     "output_type": "stream",
     "text": [
      "Hallo, mein Name ist Karl Heinz, ich bin 55 Jahre alt\n"
     ]
    },
    {
     "data": {
      "text/plain": "['achtsam', 'agil', 'analytisch']"
     },
     "metadata": {},
     "output_type": "display_data"
    }
   ],
   "source": [
    "import pywizards as pyw\n",
    "person = pyw.Person(\"Karl Heinz\", 55)\n",
    "person.add_personality_characteristic(\"achtsam\")\n",
    "person.add_personality_characteristic(\"agil\")\n",
    "person.add_personality_characteristic(\"analytisch\")\n",
    "person.introduce()\n",
    "display(person.get_personality_characteristics())"
   ]
  },
  {
   "cell_type": "markdown",
   "source": [
    "Klasse Student:"
   ],
   "metadata": {
    "collapsed": false
   }
  },
  {
   "cell_type": "code",
   "execution_count": null,
   "outputs": [],
   "source": [
    "student = pyw.Student(\"Ralf\", 35, \"Dazulernen\")"
   ],
   "metadata": {
    "collapsed": false
   }
  }
 ],
 "metadata": {
  "kernelspec": {
   "display_name": "Python 3",
   "language": "python",
   "name": "python3"
  },
  "language_info": {
   "codemirror_mode": {
    "name": "ipython",
    "version": 2
   },
   "file_extension": ".py",
   "mimetype": "text/x-python",
   "name": "python",
   "nbconvert_exporter": "python",
   "pygments_lexer": "ipython2",
   "version": "2.7.6"
  }
 },
 "nbformat": 4,
 "nbformat_minor": 0
}
